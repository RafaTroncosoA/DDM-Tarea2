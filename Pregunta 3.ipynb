{
 "cells": [
  {
   "cell_type": "code",
   "execution_count": 5,
   "id": "c6117455",
   "metadata": {},
   "outputs": [
    {
     "name": "stdout",
     "output_type": "stream",
     "text": [
      "Utilización (fracción del tiempo ocupados): 0.8914 → 89.14%\n"
     ]
    }
   ],
   "source": [
    "#1. ¿Qué fracción del tiempo estos baños estarán ocupados (utilización)?\n",
    "\n",
    "# Parámetros dados\n",
    "flow_rate = 4 # llegadas/minuto\n",
    "service_time = 3.12  # tiempo promedio de servicio (min/persona)\n",
    "s = 14  # número de baños (servidores)\n",
    "\n",
    "# Tasa de servicio por servidor\n",
    "capacity = 1 / service_time  # personas por minuto\n",
    "\n",
    "# Cálculo de utilización del sistema\n",
    "utilization = flow_rate / (capacity * s)\n",
    "\n",
    "# Resultado\n",
    "print(f\"Utilización (fracción del tiempo ocupados): {utilization:.4f} → {utilization*100:.2f}%\")"
   ]
  },
  {
   "cell_type": "code",
   "execution_count": 6,
   "id": "5d3aa0f2",
   "metadata": {},
   "outputs": [
    {
     "name": "stdout",
     "output_type": "stream",
     "text": [
      "Número mínimo de baños para que el sistema sea estable: 13\n",
      "La nueva utilización es 96.00%\n"
     ]
    }
   ],
   "source": [
    "#2. ¿Cuál es el número mínimo de baños portátiles para asegurarse de que la fila no siga creciendo sin límite?\n",
    "\n",
    "# Estable = que la utilización sea menor al 100%\n",
    "\n",
    "# Parámetros\n",
    "flow_rate = 4  # personas/minuto\n",
    "service_time = 3.12  # min/persona\n",
    "capacity = 1 / service_time  # personas/minuto por servidor\n",
    "\n",
    "# Cálculo de servidores mínimos para estabilidad\n",
    "min_banos = int(flow_rate / capacity) + 1  # redondeamos hacia arriba porque no se puede tener medio baño\n",
    "\n",
    "print(f\"Número mínimo de baños para que el sistema sea estable: {min_banos}\")\n",
    "\n",
    "#Comprobamos la nueva utilización:\n",
    "\n",
    "util2 = flow_rate/(capacity*min_banos)\n",
    "print(f\"La nueva utilización es {util2*100:.2f}%\")\n"
   ]
  },
  {
   "cell_type": "code",
   "execution_count": 9,
   "id": "b911214c",
   "metadata": {},
   "outputs": [
    {
     "name": "stdout",
     "output_type": "stream",
     "text": [
      "Tiempo promedio en cola (Tq): 1.23 minutos\n",
      "Tiempo total en el sistema (W): 4.35 minutos\n"
     ]
    }
   ],
   "source": [
    "#3. Si se instalan 14 baños: ¿Cuál es el tiempo promedio de espera?\n",
    "import numpy as np\n",
    "\n",
    "# Parámetros\n",
    "flow_rate = 4         # Tasa de llegada (clientes por minuto)\n",
    "p = 3.12              # Tiempo promedio de procesamiento (minutos por cliente)\n",
    "m = 14                # Número de servidores\n",
    "CVa = 1               # Coeficiente de variación del tiempo entre llegadas\n",
    "CVp = 1               # Coeficiente de variación del tiempo de procesamiento\n",
    "\n",
    "# Capacidad por servidor\n",
    "mu = 1 / p            # Tasa de servicio por servidor\n",
    "\n",
    "# Utilización del sistema\n",
    "utilization = flow_rate / (m * mu)\n",
    "\n",
    "# Exponente de la fórmula: raíz cuadrada de 2(m + 1) menos 1\n",
    "exponent = np.sqrt(2 * (m + 1)) - 1  \n",
    "\n",
    "# Cálculo del tiempo promedio en cola (Tq)\n",
    "Tq = (p / m) * ((utilization ** exponent) / (1 - utilization)) * ((CVa**2 + CVp**2) / 2)\n",
    "\n",
    "# Tiempo total en el sistema (espera + servicio)\n",
    "W_total = Tq + p\n",
    "\n",
    "# Mostrar resultados\n",
    "print(f\"Tiempo promedio en cola (Tq): {Tq:.2f} minutos\")\n",
    "print(f\"Tiempo total en el sistema (W): {W_total:.2f} minutos\")"
   ]
  },
  {
   "cell_type": "code",
   "execution_count": null,
   "id": "87d1d031",
   "metadata": {},
   "outputs": [
    {
     "name": "stdout",
     "output_type": "stream",
     "text": [
      "Tiempo promedio en cola (Tq): 2.91 minutos\n",
      "Tiempo total en el sistema (W): 6.03 minutos\n"
     ]
    }
   ],
   "source": [
    "#4. Se separan los baños entre hombres y mujeres. Misma demanda, misma tasa de llegada, mismo tiempo de procesamiento, mismo CVa y CVp\n",
    "#¿Cuál es el nuevo tiempo de espera?\n",
    "\n",
    "import numpy as np\n",
    "\n",
    "# Parámetros del sistema\n",
    "flow_rate_total = 4         # llegadas por minuto (total)\n",
    "p = 3.12                    # tiempo promedio de uso en minutos\n",
    "cv_a = 1                    # coeficiente de variación de llegada\n",
    "cv_p = 1                    # coeficiente de variación de proceso\n",
    "m_each = 7                 # baños en cada fila (hombres y mujeres)\n",
    "\n",
    "# Flujo en cada subgrupo (al dividir en dos sistemas idénticos)\n",
    "flow_rate_each = flow_rate_total / 2\n",
    "\n",
    "# Capacidad por servidor\n",
    "capacity = 1 / p\n",
    "\n",
    "# Utilización\n",
    "utilization = flow_rate_each / (m_each * capacity)\n",
    "\n",
    "# Fórmula de tiempo promedio en cola (versión usuario)\n",
    "adjustment = (utilization ** (np.sqrt(2 * (m_each + 1)) - 1)) / (1 - utilization)\n",
    "Tq = (p / m_each) * adjustment * ((cv_a**2 + cv_p**2) / 2)\n",
    "\n",
    "# Tiempo total en el sistema\n",
    "W = Tq + p\n",
    "\n",
    "print(f\"Tiempo promedio en cola (Tq): {Tq:.2f} minutos\")\n",
    "print(f\"Tiempo total en el sistema (W): {W:.2f} minutos\")"
   ]
  }
 ],
 "metadata": {
  "kernelspec": {
   "display_name": "base",
   "language": "python",
   "name": "python3"
  },
  "language_info": {
   "codemirror_mode": {
    "name": "ipython",
    "version": 3
   },
   "file_extension": ".py",
   "mimetype": "text/x-python",
   "name": "python",
   "nbconvert_exporter": "python",
   "pygments_lexer": "ipython3",
   "version": "3.13.5"
  }
 },
 "nbformat": 4,
 "nbformat_minor": 5
}
