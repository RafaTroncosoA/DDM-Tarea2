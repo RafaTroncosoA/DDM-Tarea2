{
 "cells": [
  {
   "cell_type": "code",
   "execution_count": 45,
   "id": "f6bbbda0",
   "metadata": {},
   "outputs": [
    {
     "name": "stdout",
     "output_type": "stream",
     "text": [
      "Tier               0\n",
      "FICO               0\n",
      "Approve_Date       0\n",
      "Term               0\n",
      "Amount             0\n",
      "Previous_APR       0\n",
      "Car__Type          0\n",
      "Competition_APR    0\n",
      "Accept             0\n",
      "APR                0\n",
      "Prime              0\n",
      "Partner_Bin        0\n",
      "dtype: int64\n"
     ]
    },
    {
     "name": "stderr",
     "output_type": "stream",
     "text": [
      "/Library/Frameworks/Python.framework/Versions/3.13/lib/python3.13/site-packages/openpyxl/worksheet/_reader.py:329: UserWarning: Unknown extension is not supported and will be removed\n",
      "  warn(msg)\n"
     ]
    }
   ],
   "source": [
    "import pandas as pd\n",
    "\n",
    "# Cargar datos\n",
    "df = pd.read_excel(\"e_Car_Data_extract_forClass.xlsx\")\n",
    "\n",
    "# Convertir nombres de columnas (por si tienen espacios)\n",
    "df.columns = df.columns.str.strip().str.replace(' ', '_')\n",
    "\n",
    "# Revisar valores nulos\n",
    "print(df.isnull().sum())"
   ]
  },
  {
   "cell_type": "code",
   "execution_count": 46,
   "id": "09308b34",
   "metadata": {},
   "outputs": [
    {
     "data": {
      "image/png": "[encoded data removed]",
      "text/plain": [
       "<Figure size 640x480 with 1 Axes>"
      ]
     },
     "metadata": {},
     "output_type": "display_data"
    },
    {
     "name": "stdout",
     "output_type": "stream",
     "text": [
      "  Tier  Media_APR\n",
      "0    1   4.781143\n",
      "1    2   5.865294\n",
      "2    3   7.087700\n",
      "3    4  10.303333\n"
     ]
    },
    {
     "name": "stderr",
     "output_type": "stream",
     "text": [
      "/var/folders/1q/cnlyyxfj21z5f6b05g2cfcnm0000gn/T/ipykernel_75811/3939882434.py:13: FutureWarning: The default of observed=False is deprecated and will be changed to True in a future version of pandas. Pass observed=False to retain current behavior or observed=True to adopt the future default and silence this warning.\n",
      "  media_apr = df.groupby('Tier')['APR'].mean().reset_index()\n"
     ]
    }
   ],
   "source": [
    "# Revisar asociación\n",
    "import seaborn as sns\n",
    "import matplotlib.pyplot as plt\n",
    "\n",
    "sns.boxplot(x='Tier', y='APR', data=df)\n",
    "plt.title('Distribución de APR por Tier')\n",
    "plt.show()\n",
    "\n",
    "# Asegurarse de que Tier sea categórica (por si acaso)\n",
    "df['Tier'] = pd.Categorical(df['Tier'])\n",
    "\n",
    "# Calcular la media de APR por Tier\n",
    "media_apr = df.groupby('Tier')['APR'].mean().reset_index()\n",
    "media_apr.columns = ['Tier', 'Media_APR']\n",
    "\n",
    "# Mostrar la tabla\n",
    "print(media_apr)"
   ]
  },
  {
   "cell_type": "code",
   "execution_count": 47,
   "id": "10dbf4ed",
   "metadata": {},
   "outputs": [
    {
     "name": "stdout",
     "output_type": "stream",
     "text": [
      "Optimization terminated successfully.\n",
      "         Current function value: 0.485139\n",
      "         Iterations 7\n",
      "                           Logit Regression Results                           \n",
      "==============================================================================\n",
      "Dep. Variable:                 Accept   No. Observations:                 1540\n",
      "Model:                          Logit   Df Residuals:                     1535\n",
      "Method:                           MLE   Df Model:                            4\n",
      "Date:                Sun, 27 Jul 2025   Pseudo R-squ.:                  0.2530\n",
      "Time:                        16:46:52   Log-Likelihood:                -747.11\n",
      "converged:                       True   LL-Null:                       -1000.1\n",
      "Covariance Type:            nonrobust   LLR p-value:                3.329e-108\n",
      "===================================================================================\n",
      "                      coef    std err          z      P>|z|      [0.025      0.975]\n",
      "-----------------------------------------------------------------------------------\n",
      "const              11.0265      6.837      1.613      0.107      -2.374      24.427\n",
      "APR                -1.4320      0.082    -17.424      0.000      -1.593      -1.271\n",
      "FICO               -0.0096      0.010     -1.011      0.312      -0.028       0.009\n",
      "Competition_APR     0.3439      0.172      1.998      0.046       0.006       0.681\n",
      "Tier                0.9297      0.138      6.714      0.000       0.658       1.201\n",
      "===================================================================================\n"
     ]
    },
    {
     "name": "stderr",
     "output_type": "stream",
     "text": [
      "/Library/Frameworks/Python.framework/Versions/3.13/lib/python3.13/site-packages/openpyxl/worksheet/_reader.py:329: UserWarning: Unknown extension is not supported and will be removed\n",
      "  warn(msg)\n"
     ]
    }
   ],
   "source": [
    "#4.  Estimación del modelo: APR, FICO, Competition_APR, Tier, Amount\n",
    "\n",
    "import pandas as pd\n",
    "import statsmodels.api as sm\n",
    "\n",
    "# Cargar datos\n",
    "df = pd.read_excel(\"e_Car_Data_extract_forClass.xlsx\")\n",
    "df.columns = df.columns.str.strip().str.replace(' ', '_')\n",
    "\n",
    "# Limpiar y seleccionar variables\n",
    "cols = ['Accept', 'APR', 'FICO', 'Competition_APR', 'Tier']\n",
    "df_model = df[cols].dropna()\n",
    "\n",
    "# Crear variables dummies para Tier (si es categórica)\n",
    "if df_model['Tier'].dtype == 'object':\n",
    "    df_model = pd.get_dummies(df_model, columns=['Tier'], drop_first=True)\n",
    "\n",
    "# Separar X e y\n",
    "X = df_model.drop(columns=['Accept'])\n",
    "X = sm.add_constant(X)\n",
    "y = df_model['Accept']\n",
    "\n",
    "# Ajustar modelo logístico\n",
    "model_with_tier = sm.Logit(y, X).fit()\n",
    "print(model_with_tier.summary())\n",
    "\n"
   ]
  },
  {
   "cell_type": "code",
   "execution_count": 50,
   "id": "1f0690fd",
   "metadata": {},
   "outputs": [
    {
     "name": "stdout",
     "output_type": "stream",
     "text": [
      "Optimization terminated successfully.\n",
      "         Current function value: 0.499754\n",
      "         Iterations 7\n",
      "                           Logit Regression Results                           \n",
      "==============================================================================\n",
      "Dep. Variable:                 Accept   No. Observations:                 1540\n",
      "Model:                          Logit   Df Residuals:                     1536\n",
      "Method:                           MLE   Df Model:                            3\n",
      "Date:                Sun, 27 Jul 2025   Pseudo R-squ.:                  0.2305\n",
      "Time:                        16:46:52   Log-Likelihood:                -769.62\n",
      "converged:                       True   LL-Null:                       -1000.1\n",
      "Covariance Type:            nonrobust   LLR p-value:                 1.341e-99\n",
      "===================================================================================\n",
      "                      coef    std err          z      P>|z|      [0.025      0.975]\n",
      "-----------------------------------------------------------------------------------\n",
      "const              36.5465      5.750      6.355      0.000      25.276      47.817\n",
      "APR                -1.2465      0.073    -17.065      0.000      -1.390      -1.103\n",
      "FICO               -0.0443      0.008     -5.516      0.000      -0.060      -0.029\n",
      "Competition_APR     0.3114      0.171      1.823      0.068      -0.023       0.646\n",
      "===================================================================================\n"
     ]
    }
   ],
   "source": [
    "# Comparando ahora con un modelo sin Tier\n",
    "\n",
    "X_base = df_model[['APR', 'FICO', 'Competition_APR']]\n",
    "X_base = sm.add_constant(X_base)\n",
    "model_base = sm.Logit(y, X_base).fit()\n",
    "print(model_base.summary())"
   ]
  },
  {
   "cell_type": "code",
   "execution_count": 55,
   "id": "f0b04648",
   "metadata": {},
   "outputs": [
    {
     "name": "stdout",
     "output_type": "stream",
     "text": [
      "Optimization terminated successfully.\n",
      "         Current function value: 0.473270\n",
      "         Iterations 7\n",
      "                           Logit Regression Results                           \n",
      "==============================================================================\n",
      "Dep. Variable:                 Accept   No. Observations:                 1540\n",
      "Model:                          Logit   Df Residuals:                     1534\n",
      "Method:                           MLE   Df Model:                            5\n",
      "Date:                Sun, 27 Jul 2025   Pseudo R-squ.:                  0.2713\n",
      "Time:                        16:50:50   Log-Likelihood:                -728.84\n",
      "converged:                       True   LL-Null:                       -1000.1\n",
      "Covariance Type:            nonrobust   LLR p-value:                5.110e-115\n",
      "===================================================================================\n",
      "                      coef    std err          z      P>|z|      [0.025      0.975]\n",
      "-----------------------------------------------------------------------------------\n",
      "const              14.8343      6.997      2.120      0.034       1.121      28.547\n",
      "APR                -1.4137      0.083    -16.973      0.000      -1.577      -1.250\n",
      "FICO               -0.0096      0.010     -0.991      0.321      -0.029       0.009\n",
      "Competition_APR     0.3259      0.175      1.867      0.062      -0.016       0.668\n",
      "Tier                0.8881      0.141      6.280      0.000       0.611       1.165\n",
      "Amount             -0.0002   2.92e-05     -5.949      0.000      -0.000      -0.000\n",
      "===================================================================================\n"
     ]
    },
    {
     "name": "stderr",
     "output_type": "stream",
     "text": [
      "/Library/Frameworks/Python.framework/Versions/3.13/lib/python3.13/site-packages/openpyxl/worksheet/_reader.py:329: UserWarning: Unknown extension is not supported and will be removed\n",
      "  warn(msg)\n"
     ]
    }
   ],
   "source": [
    "## Calculando la tasa optima APR a ofrecer en un cliente con FICO 700, Tier = 2, monto $22.000 y un CF = 5,8\n",
    "\n",
    "#En primer lugar hay que crear una nueva versión del modelo donde sí esté incorporada la variable Amount, debido a que en los ejemplos anteriores no estaba presente.\n",
    "#Este nuevo modelo tendrá Accept como variable a predecir, y las variables explicativas serán APR, FICO, Competition_APR, Tier y Amount.\n",
    "\n",
    "#4.  Estimación del modelo: APR, FICO, Competition_APR, Tier, Amount\n",
    "\n",
    "# Cargar datos\n",
    "df = pd.read_excel(\"e_Car_Data_extract_forClass.xlsx\")\n",
    "df.columns = df.columns.str.strip().str.replace(' ', '_')\n",
    "\n",
    "# Limpiar y seleccionar variables\n",
    "cols = ['Accept', 'APR', 'FICO', 'Competition_APR', 'Tier', 'Amount']\n",
    "df_model = df[cols].dropna()\n",
    "\n",
    "# Crear variables dummies para Tier (si es categórica)\n",
    "if df_model['Tier'].dtype == 'object':\n",
    "    df_model = pd.get_dummies(df_model, columns=['Tier'], drop_first=True)\n",
    "\n",
    "# Separar X e y\n",
    "X = df_model.drop(columns=['Accept'])\n",
    "X = sm.add_constant(X)\n",
    "y = df_model['Accept']\n",
    "\n",
    "# Ajustar modelo logístico\n",
    "model_with_tier = sm.Logit(y, X).fit()\n",
    "print(model_with_tier.summary())\n",
    "\n",
    "\n"
   ]
  },
  {
   "cell_type": "code",
   "execution_count": 56,
   "id": "31b6afd4",
   "metadata": {},
   "outputs": [
    {
     "name": "stdout",
     "output_type": "stream",
     "text": [
      "Tasa APR óptima: 6.65%\n",
      "Utilidad esperada máxima: $3,065.44\n"
     ]
    }
   ],
   "source": [
    "### CÁLCULO CON LOS COEFICIENTES OBTENIDOS EN EL MODELO:\n",
    "\n",
    "import numpy as np\n",
    "from scipy.optimize import minimize_scalar\n",
    "\n",
    "# Coeficientes del modelo logístico con Tier\n",
    "beta_0 = 14.8343   # const\n",
    "beta_APR = -1.4137\n",
    "beta_FICO = -0.0096\n",
    "beta_COMP = 0.3259\n",
    "beta_TIER = 0.8881\n",
    "beta_Amount = -0.0002\n",
    "\n",
    "# Constantes del enunciado\n",
    "CF = 5.8\n",
    "fico = 700\n",
    "tier = 2\n",
    "Amount = 22000\n",
    "competition_apr = 7.0  # puedes ajustarlo si tienes el valor real\n",
    "\n",
    "# Función logística G(R)\n",
    "def prob_aceptacion(R):\n",
    "    z = (beta_0 +\n",
    "         beta_APR * R +\n",
    "         beta_FICO * fico +\n",
    "         beta_COMP * competition_apr +\n",
    "         beta_TIER * tier +\n",
    "         beta_Amount * Amount)\n",
    "    return 1 / (1 + np.exp(-z))\n",
    "\n",
    "# Función de utilidad a maximizar\n",
    "def utilidad_negativa(R):  # negativa porque scipy minimiza\n",
    "    G = prob_aceptacion(R)\n",
    "    return -1 * monto * (R - CF) * G\n",
    "\n",
    "# Optimización en un rango razonable de tasas (6% a 20%)\n",
    "resultado = minimize_scalar(utilidad_negativa, bounds=(6, 20), method='bounded')\n",
    "\n",
    "# Resultados\n",
    "R_optimo = resultado.x\n",
    "utilidad_max = -resultado.fun\n",
    "\n",
    "print(f\"Tasa APR óptima: {R_optimo:.2f}%\")\n",
    "print(f\"Utilidad esperada máxima: ${utilidad_max:,.2f}\")"
   ]
  },
  {
   "cell_type": "code",
   "execution_count": 57,
   "id": "8e06d5ad",
   "metadata": {},
   "outputs": [
    {
     "data": {
      "image/png": "[encoded data removed]",
      "text/plain": [
       "<Figure size 640x480 with 1 Axes>"
      ]
     },
     "metadata": {},
     "output_type": "display_data"
    }
   ],
   "source": [
    "import matplotlib.pyplot as plt\n",
    "\n",
    "r_vals = np.linspace(5.5, 15, 100)\n",
    "utils = [-utilidad_negativa(r) for r in r_vals]\n",
    "\n",
    "plt.plot(r_vals, utils)\n",
    "plt.axvline(R_optimo, color='red', linestyle='--', label=f'R óptimo = {R_optimo:.2f}%')\n",
    "plt.xlabel(\"APR ofrecida (R)\")\n",
    "plt.ylabel(\"Utilidad esperada\")\n",
    "plt.title(\"Función de utilidad esperada según APR\")\n",
    "plt.legend()\n",
    "plt.grid()\n",
    "plt.show()"
   ]
  }
 ],
 "metadata": {
  "kernelspec": {
   "display_name": "Python 3",
   "language": "python",
   "name": "python3"
  },
  "language_info": {
   "codemirror_mode": {
    "name": "ipython",
    "version": 3
   },
   "file_extension": ".py",
   "mimetype": "text/x-python",
   "name": "python",
   "nbconvert_exporter": "python",
   "pygments_lexer": "ipython3",
   "version": "3.13.3"
  }
 },
 "nbformat": 4,
 "nbformat_minor": 5
}
